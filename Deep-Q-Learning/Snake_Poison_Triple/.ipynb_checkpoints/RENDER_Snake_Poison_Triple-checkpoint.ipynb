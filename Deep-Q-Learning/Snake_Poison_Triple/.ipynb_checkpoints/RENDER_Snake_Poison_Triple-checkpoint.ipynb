{
 "cells": [
  {
   "cell_type": "code",
   "execution_count": 7,
   "id": "b4564467",
   "metadata": {},
   "outputs": [
    {
     "data": {
      "text/plain": [
       "'/home/wlw/Desktop/Senior_Project/_SnakePlusPlus/Snake_Poison_Triple'"
      ]
     },
     "execution_count": 7,
     "metadata": {},
     "output_type": "execute_result"
    }
   ],
   "source": [
    "pwd"
   ]
  },
  {
   "cell_type": "code",
   "execution_count": 8,
   "id": "f352e0be",
   "metadata": {},
   "outputs": [],
   "source": [
    "import matplotlib.pyplot as plt\n",
    "import time\n",
    "import gym"
   ]
  },
  {
   "cell_type": "code",
   "execution_count": 9,
   "id": "1febe1a1",
   "metadata": {},
   "outputs": [
    {
     "ename": "SyntaxError",
     "evalue": "invalid syntax (__init__.py, line 1)",
     "output_type": "error",
     "traceback": [
      "Traceback \u001b[0;36m(most recent call last)\u001b[0m:\n",
      "  File \u001b[1;32m\"/home/wlw/anaconda3/envs/snake/lib/python3.10/site-packages/IPython/core/interactiveshell.py\"\u001b[0m, line \u001b[1;32m3457\u001b[0m, in \u001b[1;35mrun_code\u001b[0m\n    exec(code_obj, self.user_global_ns, self.user_ns)\n",
      "  File \u001b[1;32m\"/tmp/ipykernel_15694/3604168621.py\"\u001b[0m, line \u001b[1;32m1\u001b[0m, in \u001b[1;35m<module>\u001b[0m\n    env = gym.make(\"poison-triple:poison-triple-v0\")\n",
      "  File \u001b[1;32m\"/home/wlw/anaconda3/envs/snake/lib/python3.10/site-packages/gym/envs/registration.py\"\u001b[0m, line \u001b[1;32m581\u001b[0m, in \u001b[1;35mmake\u001b[0m\n    env_creator = load(spec_.entry_point)\n",
      "  File \u001b[1;32m\"/home/wlw/anaconda3/envs/snake/lib/python3.10/site-packages/gym/envs/registration.py\"\u001b[0m, line \u001b[1;32m61\u001b[0m, in \u001b[1;35mload\u001b[0m\n    mod = importlib.import_module(mod_name)\n",
      "  File \u001b[1;32m\"/home/wlw/anaconda3/envs/snake/lib/python3.10/importlib/__init__.py\"\u001b[0m, line \u001b[1;32m126\u001b[0m, in \u001b[1;35mimport_module\u001b[0m\n    return _bootstrap._gcd_import(name[level:], package, level)\n",
      "  File \u001b[1;32m\"<frozen importlib._bootstrap>\"\u001b[0m, line \u001b[1;32m1050\u001b[0m, in \u001b[1;35m_gcd_import\u001b[0m\n",
      "  File \u001b[1;32m\"<frozen importlib._bootstrap>\"\u001b[0m, line \u001b[1;32m1027\u001b[0m, in \u001b[1;35m_find_and_load\u001b[0m\n",
      "  File \u001b[1;32m\"<frozen importlib._bootstrap>\"\u001b[0m, line \u001b[1;32m1006\u001b[0m, in \u001b[1;35m_find_and_load_unlocked\u001b[0m\n",
      "  File \u001b[1;32m\"<frozen importlib._bootstrap>\"\u001b[0m, line \u001b[1;32m688\u001b[0m, in \u001b[1;35m_load_unlocked\u001b[0m\n",
      "  File \u001b[1;32m\"<frozen importlib._bootstrap_external>\"\u001b[0m, line \u001b[1;32m879\u001b[0m, in \u001b[1;35mexec_module\u001b[0m\n",
      "  File \u001b[1;32m\"<frozen importlib._bootstrap_external>\"\u001b[0m, line \u001b[1;32m1017\u001b[0m, in \u001b[1;35mget_code\u001b[0m\n",
      "  File \u001b[1;32m\"<frozen importlib._bootstrap_external>\"\u001b[0m, line \u001b[1;32m947\u001b[0m, in \u001b[1;35msource_to_code\u001b[0m\n",
      "\u001b[0;36m  File \u001b[0;32m\"<frozen importlib._bootstrap>\"\u001b[0;36m, line \u001b[0;32m241\u001b[0;36m, in \u001b[0;35m_call_with_frames_removed\u001b[0;36m\u001b[0m\n",
      "\u001b[0;36m  File \u001b[0;32m\"/home/wlw/Desktop/Senior_Project/_SnakePlusPlus/Snake_Poison_Triple/poison-triple/poison-triple/envs/__init__.py\"\u001b[0;36m, line \u001b[0;32m1\u001b[0m\n\u001b[0;31m    from poison-triple.envs.snake_env import SnakeEnv\u001b[0m\n\u001b[0m               ^\u001b[0m\n\u001b[0;31mSyntaxError\u001b[0m\u001b[0;31m:\u001b[0m invalid syntax\n"
     ]
    }
   ],
   "source": [
    "env = gym.make(\"poison_triple:poison_triple_v0\")"
   ]
  },
  {
   "cell_type": "code",
   "execution_count": null,
   "id": "b3f04648",
   "metadata": {},
   "outputs": [],
   "source": [
    "env.reset()\n",
    "env.render(\"human\")\n",
    "action = env.action_space.sample()\n",
    "img, reward, done, info = env.step(1)\n",
    "print(reward, done, info)\n",
    "plt.figure()\n",
    "plt.imshow(img)"
   ]
  },
  {
   "cell_type": "code",
   "execution_count": null,
   "id": "20b3421a",
   "metadata": {},
   "outputs": [],
   "source": [
    "env.reset()\n",
    "for i in range(100):\n",
    "    env.render(\"human\")\n",
    "    action = env.action_space.sample()\n",
    "    img, reward, done, info = env.step(action)\n",
    "    time.sleep(0.1)"
   ]
  },
  {
   "cell_type": "code",
   "execution_count": null,
   "id": "d1ab291d",
   "metadata": {},
   "outputs": [],
   "source": []
  }
 ],
 "metadata": {
  "kernelspec": {
   "display_name": "Python 3 (ipykernel)",
   "language": "python",
   "name": "python3"
  },
  "language_info": {
   "codemirror_mode": {
    "name": "ipython",
    "version": 3
   },
   "file_extension": ".py",
   "mimetype": "text/x-python",
   "name": "python",
   "nbconvert_exporter": "python",
   "pygments_lexer": "ipython3",
   "version": "3.10.8"
  }
 },
 "nbformat": 4,
 "nbformat_minor": 5
}
